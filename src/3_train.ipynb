{
 "cells": [
  {
   "cell_type": "markdown",
   "id": "1274b8d7-cdd2-42ac-9baa-b5b4f70922ff",
   "metadata": {},
   "source": [
    "# Finetuning Qwen\n",
    "This NB uses JWB Mattingly's script for finetuning Qwen for HTR tasks, using HF datasets."
   ]
  },
  {
   "cell_type": "code",
   "execution_count": null,
   "id": "f2a089e6-aaa5-45a0-b3cb-8971fb84c1b3",
   "metadata": {},
   "outputs": [],
   "source": [
    "#pip install -r requirements.txt"
   ]
  },
  {
   "cell_type": "code",
   "execution_count": 2,
   "id": "c2fd63bd-1adf-44f2-9444-3e6a795ef811",
   "metadata": {
    "scrolled": true
   },
   "outputs": [
    {
     "name": "stderr",
     "output_type": "stream",
     "text": [
      "/usr/local/lib/python3.10/dist-packages/tqdm/auto.py:21: TqdmWarning: IProgress not found. Please update jupyter and ipywidgets. See https://ipywidgets.readthedocs.io/en/stable/user_install.html\n",
      "  from .autonotebook import tqdm as notebook_tqdm\n"
     ]
    }
   ],
   "source": [
    "from qwen_finetune import train_and_validate"
   ]
  },
  {
   "cell_type": "code",
   "execution_count": 3,
   "id": "8a97c70e-1e3d-4d27-916c-0e51a94aabe2",
   "metadata": {},
   "outputs": [],
   "source": [
    "import torch"
   ]
  },
  {
   "cell_type": "code",
   "execution_count": 4,
   "id": "76b5bf0d-c561-4675-b9ca-1d5f6735fd60",
   "metadata": {},
   "outputs": [
    {
     "name": "stderr",
     "output_type": "stream",
     "text": [
      "/usr/local/lib/python3.10/dist-packages/torch/cuda/memory.py:391: FutureWarning: torch.cuda.reset_max_memory_allocated now calls torch.cuda.reset_peak_memory_stats, which resets /all/ peak memory stats.\n",
      "  warnings.warn(\n"
     ]
    }
   ],
   "source": [
    "torch.cuda.empty_cache()\n",
    "torch.cuda.reset_max_memory_allocated()"
   ]
  },
  {
   "cell_type": "markdown",
   "id": "2b589093-c548-4842-a039-33e25a1a47b7",
   "metadata": {},
   "source": [
    "*Need to create an output folder, on gitignore"
   ]
  },
  {
   "cell_type": "code",
   "execution_count": 5,
   "id": "8291511d-3e5a-4ebf-ba53-7c72740d292f",
   "metadata": {},
   "outputs": [],
   "source": [
    "model_name = \"Qwen/Qwen2-VL-2B-Instruct\"\n",
    "#qwen_model = \"Qwen/Qwen2.5-VL-72B-Instruct\""
   ]
  },
  {
   "cell_type": "code",
   "execution_count": 8,
   "id": "3f9377ca",
   "metadata": {},
   "outputs": [
    {
     "name": "stderr",
     "output_type": "stream",
     "text": [
      "Loading checkpoint shards: 100%|██████████| 2/2 [00:00<00:00,  2.79it/s]\n",
      "\n",
      "\u001b[A\n",
      "\u001b[A\n",
      "\u001b[A\n",
      "\u001b[A\n",
      "\u001b[A\n",
      "\u001b[A\n",
      "\u001b[A\n",
      "Validating: 100%|██████████| 14/14 [00:00<00:00, 15.09it/s]\n",
      "\n",
      "\u001b[A\n",
      "\u001b[A\n",
      "\u001b[A\n",
      "\u001b[A\n",
      "\u001b[A\n",
      "\u001b[A\n",
      "\u001b[A\n",
      "Validating: 100%|██████████| 14/14 [00:00<00:00, 15.23it/s]\n",
      "\n",
      "\u001b[A\n",
      "\u001b[A\n",
      "\u001b[A\n",
      "\u001b[A\n",
      "\u001b[A\n",
      "\u001b[A\n",
      "\u001b[A\n",
      "Validating: 100%|██████████| 14/14 [00:00<00:00, 15.09it/s]\n",
      "\n",
      "\u001b[A\n",
      "\u001b[A\n",
      "\u001b[A\n",
      "\u001b[A\n",
      "\u001b[A\n",
      "\u001b[A\n",
      "\u001b[A\n",
      "Validating: 100%|██████████| 14/14 [00:00<00:00, 15.01it/s]\n",
      "\n",
      "\u001b[A\n",
      "\u001b[A\n",
      "\u001b[A\n",
      "\u001b[A\n",
      "\u001b[A\n",
      "\u001b[A\n",
      "Validating: 100%|██████████| 14/14 [00:00<00:00, 15.47it/s]\n",
      "\n",
      "\u001b[A\n",
      "\u001b[A\n",
      "\u001b[A\n",
      "\u001b[A\n",
      "\u001b[A\n",
      "\u001b[A\n",
      "Validating: 100%|██████████| 14/14 [00:00<00:00, 16.07it/s]\n",
      "\n",
      "\u001b[A\n",
      "\u001b[A\n",
      "\u001b[A\n",
      "\u001b[A\n",
      "\u001b[A\n",
      "\u001b[A\n",
      "Validating: 100%|██████████| 14/14 [00:00<00:00, 16.18it/s]\n",
      "\n",
      "\u001b[A\n",
      "\u001b[A\n",
      "\u001b[A\n",
      "\u001b[A\n",
      "\u001b[A\n",
      "\u001b[A\n",
      "Validating: 100%|██████████| 14/14 [00:00<00:00, 16.15it/s]\n",
      "\n",
      "\u001b[A\n",
      "\u001b[A\n",
      "\u001b[A\n",
      "\u001b[A\n",
      "\u001b[A\n",
      "\u001b[A\n",
      "Validating: 100%|██████████| 14/14 [00:00<00:00, 16.18it/s]\n",
      "\n",
      "\u001b[A\n",
      "\u001b[A\n",
      "\u001b[A\n",
      "\u001b[A\n",
      "\u001b[A\n",
      "\u001b[A\n",
      "Validating: 100%|██████████| 14/14 [00:00<00:00, 16.25it/s]\n",
      "Training: 100%|██████████| 10000/10000 [39:14<00:00,  4.25it/s, loss=5.56e-5]\n"
     ]
    }
   ],
   "source": [
    "train_and_validate(\n",
    "    model_name=model_name,\n",
    "    output_dir=\"output\",\n",
    "    dataset_name=\"culturalheritagenus/Gongguan-OCR-p40\",\n",
    "    image_column=\"image\",\n",
    "    text_column=\"text\",\n",
    "    user_text=\"Convert this image to text\",\n",
    "    train_field=\"train\",\n",
    "    val_field=\"validation\",\n",
    "    num_accumulation_steps=2, #previously 2\n",
    "    eval_steps=1000,\n",
    "    max_steps=10000,\n",
    "    train_batch_size=1,\n",
    "    val_batch_size=1,\n",
    "    device=\"cuda\"\n",
    ")"
   ]
  },
  {
   "cell_type": "code",
   "execution_count": null,
   "id": "6e7f1205",
   "metadata": {},
   "outputs": [],
   "source": []
  },
  {
   "cell_type": "code",
   "execution_count": null,
   "id": "3460d5b3-62b2-4b53-a7c5-ddec5327de7a",
   "metadata": {},
   "outputs": [
    {
     "name": "stderr",
     "output_type": "stream",
     "text": [
      "Fetching 2 files:   0%|          | 0/2 [00:26<?, ?it/s]\n"
     ]
    }
   ],
   "source": [
    "# train_and_validate(\n",
    "#     model_name=model_name,\n",
    "#     output_dir=\"output\",\n",
    "#     dataset_name=\"mevsg/Gongguan-OCR-v1\",\n",
    "#     image_column=\"image\",\n",
    "#     text_column=\"text\",\n",
    "#     user_text=\"Convert this image to text\",\n",
    "#     train_field=\"train\",\n",
    "#     val_field=\"validation\",\n",
    "#     num_accumulation_steps=2, #previously 2\n",
    "#     eval_steps=1000,\n",
    "#     max_steps=10000,\n",
    "#     train_batch_size=1,\n",
    "#     val_batch_size=1,\n",
    "#     device=\"cuda\"\n",
    "# )"
   ]
  },
  {
   "cell_type": "markdown",
   "id": "78d1e67e-f3bb-41aa-8ac8-4e817e05660b",
   "metadata": {},
   "source": [
    "## Saving to hub"
   ]
  },
  {
   "cell_type": "code",
   "execution_count": 9,
   "id": "c36c2902-74fa-45cd-bb26-bc609e2346f0",
   "metadata": {},
   "outputs": [],
   "source": [
    "from transformers import Qwen2VLForConditionalGeneration, AutoProcessor\n",
    "\n",
    "# Specify the directory where your model and processor are saved\n",
    "model_dir = 'output/final'  # Adjust this path if necessary\n",
    "\n",
    "# Load the model and processor\n",
    "model = Qwen2VLForConditionalGeneration.from_pretrained(model_dir)\n",
    "processor = AutoProcessor.from_pretrained(model_dir)"
   ]
  },
  {
   "cell_type": "code",
   "execution_count": 14,
   "id": "b660992d",
   "metadata": {},
   "outputs": [],
   "source": [
    "with open(\"../tokens/token\") as f:\n",
    "    token = f.read()"
   ]
  },
  {
   "cell_type": "code",
   "execution_count": 12,
   "id": "6ecaef41-93a0-4534-a06f-a77e02e54aa5",
   "metadata": {},
   "outputs": [],
   "source": [
    "# repo_name = \"mevsg/Qwen-Gongguan-OCR-v1\"\n",
    "repo_name = \"culturalheritagenus/Gongguan-OCR-p40\""
   ]
  },
  {
   "cell_type": "code",
   "execution_count": null,
   "id": "1f85740b-8a69-40cc-9f1f-3ecec9575c89",
   "metadata": {},
   "outputs": [
    {
     "name": "stderr",
     "output_type": "stream",
     "text": [
      "model-00002-of-00002.safetensors:   0%|          | 0.00/3.85G [00:00<?, ?B/s]\n",
      "model-00002-of-00002.safetensors:   8%|▊         | 302M/3.85G [00:45<07:46, 7.62MB/s]    "
     ]
    }
   ],
   "source": [
    "model.push_to_hub(repo_name,token=token,private=True)"
   ]
  },
  {
   "cell_type": "code",
   "execution_count": null,
   "id": "f7ef2760-1b5c-4f59-94ec-a2ef985b10bc",
   "metadata": {},
   "outputs": [],
   "source": [
    "# push to my own hugging face:\n",
    "# with open(\"../tokens/token\") as f:\n",
    "#     token_alex = f.read()\n",
    "#     repo_name = \"alexmoz/ocr_gg_p40\"\n",
    "# model.push_to_hub(repo_name,token=token_alex, private=True)"
   ]
  }
 ],
 "metadata": {
  "kernelspec": {
   "display_name": "Python 3",
   "language": "python",
   "name": "python3"
  },
  "language_info": {
   "codemirror_mode": {
    "name": "ipython",
    "version": 3
   },
   "file_extension": ".py",
   "mimetype": "text/x-python",
   "name": "python",
   "nbconvert_exporter": "python",
   "pygments_lexer": "ipython3",
   "version": "3.10.12"
  }
 },
 "nbformat": 4,
 "nbformat_minor": 5
}
